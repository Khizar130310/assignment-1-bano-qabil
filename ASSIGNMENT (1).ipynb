{
 "cells": [
  {
   "cell_type": "code",
   "execution_count": 3,
   "id": "06eb429a-f20e-4c35-a6d7-0436d6c0b91b",
   "metadata": {},
   "outputs": [
    {
     "name": "stdin",
     "output_type": "stream",
     "text": [
      "which table do you want 5\n",
      "how many times do you want table 20\n"
     ]
    },
    {
     "name": "stdout",
     "output_type": "stream",
     "text": [
      "5 x 1 = 5\n",
      "5 x 3 = 15\n",
      "5 x 5 = 25\n",
      "5 x 7 = 35\n",
      "5 x 9 = 45\n",
      "5 x 11 = 55\n",
      "5 x 13 = 65\n",
      "5 x 15 = 75\n",
      "5 x 17 = 85\n",
      "5 x 19 = 95\n",
      "your answer is  100\n",
      "your table is finished \n",
      "your table is 5 \n",
      "you multiply this times 20\n"
     ]
    }
   ],
   "source": [
    "TableDoYouWant = int (input (\"which table do you want\" ) )\n",
    "HowManyTimesDoYouWantTable= int (input (\"how many times do you want table\" ) )\n",
    "\n",
    "for i in range (1 , HowManyTimesDoYouWantTable + 1, 2):\n",
    "    print( f\" {TableDoYouWant} x {i} = {TableDoYouWant * i}\" )\n",
    "\n",
    "else:\n",
    "    print( f\"your table is {TableDoYouWant} \" )\n",
    "    print( f\"you multiply this times {HowManyTimesDoYouWantTable}\" )"
   ]
  },
  {
   "cell_type": "code",
   "execution_count": 83,
   "id": "398f0f88-3591-42e2-9636-e2be71bafd2c",
   "metadata": {},
   "outputs": [
    {
     "name": "stdin",
     "output_type": "stream",
     "text": [
      "what is student name khizer\n",
      "put your maths marks 97\n",
      "put your science marks 96\n",
      "put your english marks 79\n"
     ]
    }
   ],
   "source": [
    "StudentName = input(\"what is student name\")\n",
    "\n",
    "MarksOfMaths = int(input (\"put your maths marks\") )\n",
    "MarksOfScience = int(input (\"put your science marks\") )\n",
    "MarksOfEnglish = int(input (\"put your english marks\") )\n",
    "\n",
    "ObtainMarks = MarksOfMaths+MarksOfScience+MarksOfEnglish\n",
    "\n",
    "Percentage = ObtainMarks/300*100\n",
    "\n",
    "print = (f\"Student name is {StudentName} Total mark is {ObtainMarks} Percentage is {Percentage}\" )\n"
   ]
  },
  {
   "cell_type": "code",
   "execution_count": 1,
   "id": "8a5005a9-8dd3-4869-abd0-32f24d3c5e73",
   "metadata": {},
   "outputs": [
    {
     "name": "stdin",
     "output_type": "stream",
     "text": [
      "Product name  soap\n",
      "What is product actual price  200\n",
      "What is selling price of product  210\n"
     ]
    },
    {
     "name": "stdout",
     "output_type": "stream",
     "text": [
      "soap give you this profit 10 and percent is 5.0 \n"
     ]
    }
   ],
   "source": [
    "ProductName = (input( \"Product name \" ))\n",
    "\n",
    "CostPrice = int(input( \"What is product actual price \" ))\n",
    "SellingPrice = int(input( \"What is selling price of product \" ))\n",
    "\n",
    "Profit = SellingPrice-CostPrice\n",
    "\n",
    "ProfitPercentage = Profit/CostPrice*100\n",
    "\n",
    "print ( f\"{ProductName} give you this profit {Profit} and percent is {ProfitPercentage} \" )\n"
   ]
  }
 ],
 "metadata": {
  "kernelspec": {
   "display_name": "Python 3 (ipykernel)",
   "language": "python",
   "name": "python3"
  },
  "language_info": {
   "codemirror_mode": {
    "name": "ipython",
    "version": 3
   },
   "file_extension": ".py",
   "mimetype": "text/x-python",
   "name": "python",
   "nbconvert_exporter": "python",
   "pygments_lexer": "ipython3",
   "version": "3.12.4"
  }
 },
 "nbformat": 4,
 "nbformat_minor": 5
}
